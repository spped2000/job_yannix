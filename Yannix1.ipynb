{
 "cells": [
  {
   "attachments": {},
   "cell_type": "markdown",
   "metadata": {},
   "source": [
    "## 1"
   ]
  },
  {
   "attachments": {},
   "cell_type": "markdown",
   "metadata": {},
   "source": [
    "![Image Description](1.jpg)\n"
   ]
  },
  {
   "cell_type": "code",
   "execution_count": 74,
   "metadata": {},
   "outputs": [],
   "source": [
    "def Miracle_Ways(n):\n",
    "    dp = [0]*(n+1)\n",
    "    dp[0] = dp[1] = 1\n",
    "    for i in range(2, n+1):\n",
    "        dp[i] = dp[i-1] + dp[i-2]\n",
    "    return dp[n]\n"
   ]
  },
  {
   "cell_type": "code",
   "execution_count": 78,
   "metadata": {},
   "outputs": [
    {
     "data": {
      "text/plain": [
       "2"
      ]
     },
     "execution_count": 78,
     "metadata": {},
     "output_type": "execute_result"
    }
   ],
   "source": [
    "Miracle_Ways(2)"
   ]
  },
  {
   "cell_type": "code",
   "execution_count": 79,
   "metadata": {},
   "outputs": [
    {
     "data": {
      "text/plain": [
       "3"
      ]
     },
     "execution_count": 79,
     "metadata": {},
     "output_type": "execute_result"
    }
   ],
   "source": [
    "Miracle_Ways(3)"
   ]
  },
  {
   "cell_type": "code",
   "execution_count": 80,
   "metadata": {},
   "outputs": [
    {
     "data": {
      "text/plain": [
       "5"
      ]
     },
     "execution_count": 80,
     "metadata": {},
     "output_type": "execute_result"
    }
   ],
   "source": [
    "Miracle_Ways(4)\n"
   ]
  },
  {
   "cell_type": "code",
   "execution_count": 81,
   "metadata": {},
   "outputs": [
    {
     "data": {
      "text/plain": [
       "8"
      ]
     },
     "execution_count": 81,
     "metadata": {},
     "output_type": "execute_result"
    }
   ],
   "source": [
    "Miracle_Ways(5)\n"
   ]
  },
  {
   "attachments": {},
   "cell_type": "markdown",
   "metadata": {},
   "source": [
    "## 2"
   ]
  },
  {
   "attachments": {},
   "cell_type": "markdown",
   "metadata": {},
   "source": [
    "![Image Description](2.jpg)\n"
   ]
  },
  {
   "cell_type": "code",
   "execution_count": 106,
   "metadata": {},
   "outputs": [],
   "source": [
    "def MidguardWater(water_height,terrain):\n",
    "    original_terrain = terrain\n",
    "    water_ter  = []\n",
    "    water_volume = []\n",
    "    if terrain[0] > water_height:\n",
    "        print(\"First Terrain higher than water\")\n",
    "        return\n",
    "    \n",
    "    for t_height in terrain:\n",
    "        if t_height >= water_height:\n",
    "            indx = terrain.index(t_height)\n",
    "            terrain = terrain[:indx]\n",
    "            break\n",
    "    # print(terrain)\n",
    "\n",
    "    for t in terrain:\n",
    "        dumn = water_height - t\n",
    "        filtered = [x for x in terrain if dumn >= x]\n",
    "        # print(dumn)\n",
    "        # print(filtered)\n",
    "        if len(filtered) == len(terrain):\n",
    "            water_ter.append(dumn)\n",
    "            # print(water_ter)\n",
    "\n",
    "    water = sorted(water_ter)\n",
    "    min_water = water[0] \n",
    "\n",
    "    for w in terrain:\n",
    "        dumw = min_water - w\n",
    "        water_volume.append(dumw)\n",
    "    \n",
    "    if water_height - sum(water_volume) == 0:\n",
    "        return min_water - min(terrain)\n",
    "    else:\n",
    "        dum_final0 = water_height - sum(water_volume)\n",
    "        dum_final1 = dum_final0 / len(terrain)\n",
    "        min_water1 = min_water + dum_final1\n",
    "        return min_water1 - min(terrain)\n",
    "\n"
   ]
  },
  {
   "cell_type": "code",
   "execution_count": 155,
   "metadata": {},
   "outputs": [],
   "source": [
    "import matplotlib.pyplot as plt\n",
    "\n",
    "def plot_water_level(terrain, water, boundary):\n",
    "    # compute the water level\n",
    "    if max(terrain) > water:\n",
    "        y_limit = max(terrain) + 1\n",
    "    else:\n",
    "        y_limit = boundary + 1\n",
    "\n",
    "    water_level = [0] * len(terrain) \n",
    "    for num, height in enumerate(terrain):\n",
    "        if height > water:\n",
    "            water_level[num:] = [0] * (len(water_level) - num)\n",
    "            break\n",
    "        else:\n",
    "            w = boundary - height\n",
    "            water_level[num] = w\n",
    "\n",
    "    # create the x-axis labels\n",
    "    x_labels = range(len(terrain))\n",
    "\n",
    "    # plot the terrain\n",
    "    plt.bar(x_labels, terrain, color='brown', width=1, align='edge', label='Terrain height')\n",
    "\n",
    "    # plot the water level\n",
    "    plt.bar(x_labels, water_level, bottom=terrain, color='blue', width=1, align='edge', label='Water height')\n",
    "\n",
    "    plt.xlabel('Position')\n",
    "    plt.ylabel('Height')\n",
    "    plt.ylim(0, y_limit)\n",
    "    plt.legend(loc='upper right')\n",
    "    plt.title('Water level over the terrain')\n",
    "    plt.show()"
   ]
  },
  {
   "attachments": {},
   "cell_type": "markdown",
   "metadata": {},
   "source": [
    "### Problem2 Only Solution"
   ]
  },
  {
   "cell_type": "code",
   "execution_count": 118,
   "metadata": {},
   "outputs": [
    {
     "data": {
      "text/plain": [
       "4"
      ]
     },
     "execution_count": 118,
     "metadata": {},
     "output_type": "execute_result"
    }
   ],
   "source": [
    "MidguardWater(11,[3,5,4,5,2])"
   ]
  },
  {
   "cell_type": "code",
   "execution_count": 119,
   "metadata": {},
   "outputs": [
    {
     "data": {
      "text/plain": [
       "3.333333333333333"
      ]
     },
     "execution_count": 119,
     "metadata": {},
     "output_type": "execute_result"
    }
   ],
   "source": [
    "MidguardWater(5,[1,4,3,6])"
   ]
  },
  {
   "cell_type": "code",
   "execution_count": 120,
   "metadata": {},
   "outputs": [
    {
     "data": {
      "text/plain": [
       "4.0"
      ]
     },
     "execution_count": 120,
     "metadata": {},
     "output_type": "execute_result"
    }
   ],
   "source": [
    "MidguardWater(5,[1,4,6,3])"
   ]
  },
  {
   "attachments": {},
   "cell_type": "markdown",
   "metadata": {},
   "source": [
    "### Problem2 Visualization and Solution"
   ]
  },
  {
   "cell_type": "code",
   "execution_count": 156,
   "metadata": {},
   "outputs": [
    {
     "name": "stdout",
     "output_type": "stream",
     "text": [
      "Output : 4\n"
     ]
    },
    {
     "data": {
      "image/png": "[encoded data removed]",
      "text/plain": [
       "<Figure size 432x288 with 1 Axes>"
      ]
     },
     "metadata": {
      "needs_background": "light"
     },
     "output_type": "display_data"
    }
   ],
   "source": [
    "terrain = [3, 5, 4, 5, 2]\n",
    "water = 11\n",
    "boundary = min(terrain) + MidguardWater(water, terrain)\n",
    "print(f\"Output : {MidguardWater(water,terrain)}\")\n",
    "plot_water_level(terrain, water, boundary)"
   ]
  },
  {
   "cell_type": "code",
   "execution_count": 157,
   "metadata": {},
   "outputs": [
    {
     "name": "stdout",
     "output_type": "stream",
     "text": [
      "Output : 3.333333333333333\n"
     ]
    },
    {
     "data": {
      "image/png": "[encoded data removed]",
      "text/plain": [
       "<Figure size 432x288 with 1 Axes>"
      ]
     },
     "metadata": {
      "needs_background": "light"
     },
     "output_type": "display_data"
    }
   ],
   "source": [
    "terrain = [1,4,3,6]\n",
    "water = 5\n",
    "boundary = min(terrain) + MidguardWater(water, terrain)\n",
    "print(f\"Output : {MidguardWater(water,terrain)}\")\n",
    "plot_water_level(terrain, water, boundary)"
   ]
  },
  {
   "attachments": {},
   "cell_type": "markdown",
   "metadata": {},
   "source": [
    "### เข้าใจว่าถ้ามีพื้นที่สูงมากั้นจะทำให้พื้นที่ต่อไป น้ำฝนไม่ไหลผ่าน"
   ]
  },
  {
   "cell_type": "code",
   "execution_count": 158,
   "metadata": {},
   "outputs": [
    {
     "name": "stdout",
     "output_type": "stream",
     "text": [
      "Output : 4.0\n"
     ]
    },
    {
     "data": {
      "image/png": "[encoded data removed]",
      "text/plain": [
       "<Figure size 432x288 with 1 Axes>"
      ]
     },
     "metadata": {
      "needs_background": "light"
     },
     "output_type": "display_data"
    }
   ],
   "source": [
    "terrain = [1,4,6,3]\n",
    "water = 5\n",
    "boundary = min(terrain) + MidguardWater(water, terrain)\n",
    "print(f\"Output : {MidguardWater(water,terrain)}\")\n",
    "plot_water_level(terrain, water, boundary)"
   ]
  },
  {
   "attachments": {},
   "cell_type": "markdown",
   "metadata": {},
   "source": [
    "## 3"
   ]
  },
  {
   "cell_type": "markdown",
   "metadata": {},
   "source": [
    "![Image Description](3.jpg)"
   ]
  },
  {
   "cell_type": "markdown",
   "metadata": {},
   "source": [
    "![Image Description](3_1.jpg)"
   ]
  },
  {
   "cell_type": "code",
   "execution_count": 39,
   "metadata": {},
   "outputs": [],
   "source": [
    "def count_max(lst):\n",
    "    if not lst:\n",
    "        return 0\n",
    "\n",
    "    max_value = max(lst)\n",
    "    count = lst.count(max_value)\n",
    "    return count\n",
    "\n",
    "def Midguard_Reservoir(height):\n",
    "    max_values = sorted(height, reverse=True)[:2]\n",
    "\n",
    "    first_max = max_values[0]\n",
    "    second_max = max_values[1]\n",
    "    reserve = 0\n",
    "    result = [0] * (len(height) - 1)\n",
    "    count_keep = 0\n",
    "    water_keep = False\n",
    "    index_result = 0\n",
    "    orginal_height = height.copy()\n",
    "\n",
    "    # Check if first highest pillar or second highest pillar is in the first or last position\n",
    "    is_first_max = height[0] == first_max or height[-1] == first_max\n",
    "    is_second_max = height[0] == second_max or height[-1] == second_max\n",
    "    if is_first_max and is_second_max:\n",
    "        result = [second_max] * (len(height) - 1)\n",
    "        return result\n",
    "\n",
    "\n",
    "    # If highest pillar more than 1\n",
    "    elif count_max(height) > 1:\n",
    "        # print(0)\n",
    "        for h in range(1,len(height)):\n",
    "            if h == len(result):\n",
    "                if water_keep == True:\n",
    "                   if height[h] >= reserve:\n",
    "                        result[-1] = reserve\n",
    "                   else:\n",
    "                       result[-1] = height[h]\n",
    "                else:\n",
    "                    if height[h] < height[h-1]:\n",
    "                        result[-1] = height[h]\n",
    "                    else:\n",
    "                        result[-1] = height[h-1]\n",
    "\n",
    "            \n",
    "\n",
    "            elif height[h] > height[h-1] and water_keep == False:\n",
    "                result[index_result] = height[h-1]\n",
    "                index_result += 1\n",
    "                # result.append(height[h-1])\n",
    "            elif water_keep:\n",
    "                if height[h] < reserve:\n",
    "                    count_keep += 1\n",
    "                    continue\n",
    "                else:\n",
    "                    result[index_result:(index_result+count_keep+1)] = [reserve]*(count_keep+1)\n",
    "                    index_result += (index_result + count_keep + 1)\n",
    "                    count_keep = 0\n",
    "                    water_keep = False\n",
    "            else:\n",
    "                reserve = height[h-1]\n",
    "                water_keep = True\n",
    "                count_keep += 1\n",
    "                # print(reserve)\n",
    "    \n",
    "    else:\n",
    "        # print(1)\n",
    "        pillar = []\n",
    "        for h in range(1,len(height)):\n",
    "            # print(height[h])\n",
    "            if h == len(result):\n",
    "                if water_keep == True:\n",
    "                   if height[h] >= reserve:\n",
    "                        result[index_result:] = [reserve]*(count_keep+1)\n",
    "                   else:\n",
    "                       result[-1] = height[h]\n",
    "                else:\n",
    "                    if height[h] < height[h-1]:\n",
    "                        result[-1] = height[h]\n",
    "                    else:\n",
    "                        result[-1] = height[h-1]\n",
    "\n",
    "            elif height[h] > height[h-1] and water_keep == False:\n",
    "                if height[h] <= pillar[-1] and pillar != []:\n",
    "                    indx_pillar = height.index(pillar[-1])\n",
    "                    result[indx_pillar:h] = [height[h]]*(h-indx_pillar)\n",
    "                else:\n",
    "                    result[index_result] = height[h-1]\n",
    "                    index_result += 1\n",
    "                # result.append(height[h-1])\n",
    "            elif water_keep:\n",
    "                if height[h] < reserve:\n",
    "                    count_keep += 1\n",
    "                    continue\n",
    "                else:\n",
    "                    result[index_result:(index_result+count_keep+1)] = [reserve]*(count_keep+1)\n",
    "                    index_result += (index_result + count_keep + 1)\n",
    "                    count_keep = 0\n",
    "                    water_keep = False\n",
    "                    \n",
    "            else:\n",
    "                if count_max(orginal_height) == 1:\n",
    "                    if height[h-1] == max(orginal_height):\n",
    "                        result[index_result] = height[h]\n",
    "                        index_result += 1\n",
    "                        pillar.append(height[h-1])\n",
    "                        orginal_height.remove(height[h-1])\n",
    "                    \n",
    "                    # print(orginal_height)\n",
    "\n",
    "\n",
    "                else:\n",
    "                    # print(1)\n",
    "                    reserve = height[h-1]\n",
    "                    water_keep = True\n",
    "                    count_keep += 1\n",
    "                    # print(reserve)\n",
    "    return (result)\n",
    "\n"
   ]
  },
  {
   "cell_type": "code",
   "execution_count": 40,
   "metadata": {},
   "outputs": [
    {
     "name": "stdout",
     "output_type": "stream",
     "text": [
      "[3, 2, 2, 2]\n",
      "[3, 5, 5, 2]\n",
      "[5, 4, 3, 3, 2]\n",
      "[5, 4, 3, 3, 3, 2]\n",
      "[6, 6, 6, 6]\n",
      "[5, 5, 5, 5]\n"
     ]
    }
   ],
   "source": [
    "print(Midguard_Reservoir([4, 3, 2, 1, 2])) # [3,2,2,2]\n",
    "print(Midguard_Reservoir([3, 5, 4, 5, 2])) # [3,5,5,2]\n",
    "print(Midguard_Reservoir([6, 5, 4, 1, 3, 2])) # [5,4,3,3,2]\n",
    "print(Midguard_Reservoir([6, 5, 4, 1, 1, 3, 2])) #[5,4,3,3,3,2]\n",
    "print(Midguard_Reservoir([6, 1, 3, 4, 6])) #[6,6,6,6]\n",
    "print(Midguard_Reservoir([6, 1, 3, 4, 5])) # [5,5,5,5]\n"
   ]
  },
  {
   "cell_type": "markdown",
   "metadata": {},
   "source": [
    "### VIsualize for test"
   ]
  },
  {
   "cell_type": "code",
   "execution_count": 65,
   "metadata": {},
   "outputs": [],
   "source": [
    "import matplotlib.pyplot as plt\n",
    "import numpy as np\n",
    "\n",
    "# Your data\n",
    "\n",
    "def plot_reservoir_level(pillar_height, water_height):\n",
    "\n",
    "    x_positions = np.arange(2 * max(len(pillar_height), len(water_height)))\n",
    "    x_input = x_positions[::2]  \n",
    "    x_output = x_positions[1::2]  \n",
    "    water_height += [0] * (len(pillar_height) - len(water_height))\n",
    "\n",
    "\n",
    "    fig, ax = plt.subplots()\n",
    "    gray_bars = ax.bar(x_input, pillar_height, color='gray', width=1.0, align='edge', label='Input')\n",
    "    ax.bar(x_output, water_height, color='blue', width=1.0, align='edge', label='Output')\n",
    "    for i, (inp, out) in enumerate(zip(pillar_height, water_height)):\n",
    "        if inp < out:\n",
    "            ax.bar(x_input[i], out - inp, bottom=inp, color='blue', width=1.0, align='edge')\n",
    "\n",
    "\n",
    "    ax.set_ylabel('Height')\n",
    "    ax.set_title('Midguard Reservoir')\n",
    "    ax.legend()\n",
    "\n",
    "\n",
    "    ax.set_xticks(x_input + 0.5)\n",
    "    ax.set_xticklabels(pillar_height)\n",
    "\n",
    "    # Show the plot\n",
    "    plt.tight_layout()\n",
    "    plt.show()\n"
   ]
  },
  {
   "cell_type": "code",
   "execution_count": 66,
   "metadata": {},
   "outputs": [
    {
     "data": {
      "image/png": "[encoded data removed]",
      "text/plain": [
       "<Figure size 432x288 with 1 Axes>"
      ]
     },
     "metadata": {
      "needs_background": "light"
     },
     "output_type": "display_data"
    },
    {
     "data": {
      "image/png": "[encoded data removed]",
      "text/plain": [
       "<Figure size 432x288 with 1 Axes>"
      ]
     },
     "metadata": {
      "needs_background": "light"
     },
     "output_type": "display_data"
    },
    {
     "data": {
      "image/png": "[encoded data removed]",
      "text/plain": [
       "<Figure size 432x288 with 1 Axes>"
      ]
     },
     "metadata": {
      "needs_background": "light"
     },
     "output_type": "display_data"
    },
    {
     "data": {
      "image/png": "[encoded data removed]",
      "text/plain": [
       "<Figure size 432x288 with 1 Axes>"
      ]
     },
     "metadata": {
      "needs_background": "light"
     },
     "output_type": "display_data"
    },
    {
     "data": {
      "image/png": "[encoded data removed]",
      "text/plain": [
       "<Figure size 432x288 with 1 Axes>"
      ]
     },
     "metadata": {
      "needs_background": "light"
     },
     "output_type": "display_data"
    },
    {
     "data": {
      "image/png": "[encoded data removed]",
      "text/plain": [
       "<Figure size 432x288 with 1 Axes>"
      ]
     },
     "metadata": {
      "needs_background": "light"
     },
     "output_type": "display_data"
    }
   ],
   "source": [
    "pillar_height = [\n",
    "    [4, 3, 2, 1, 2],\n",
    "    [3, 5, 4, 5, 2],\n",
    "    [6, 5, 4, 1, 3, 2],\n",
    "    [6, 5, 4, 1, 1, 3, 2],\n",
    "    [6, 1, 3, 4, 6],\n",
    "    [6, 1, 3, 4, 5]\n",
    "]\n",
    "\n",
    "reservoir = [\n",
    "    Midguard_Reservoir([4, 3, 2, 1, 2]),\n",
    "    Midguard_Reservoir([3, 5, 4, 5, 2]),\n",
    "    Midguard_Reservoir([6, 5, 4, 1, 3, 2]),\n",
    "    Midguard_Reservoir([6, 5, 4, 1, 1, 3, 2]),\n",
    "    Midguard_Reservoir([6, 1, 3, 4, 6]),\n",
    "    Midguard_Reservoir([6, 1, 3, 4, 5])\n",
    "]\n",
    "\n",
    "for p,r in zip(pillar_height,reservoir):\n",
    "    plot_reservoir_level(p,r)\n"
   ]
  },
  {
   "cell_type": "markdown",
   "metadata": {},
   "source": [
    "## 4"
   ]
  },
  {
   "cell_type": "markdown",
   "metadata": {},
   "source": [
    "![Image Description](4.jpg)"
   ]
  },
  {
   "cell_type": "markdown",
   "metadata": {},
   "source": [
    "![Image Description](4_1.jpg)"
   ]
  },
  {
   "cell_type": "code",
   "execution_count": 150,
   "metadata": {},
   "outputs": [],
   "source": [
    "def suspect_detector(num, suspect):\n",
    "    meet_booking = [-1]*num\n",
    "    dummy_booking = []\n",
    "    dummy_suspect = sorted(suspect)\n",
    "    for s in dummy_suspect:\n",
    "        target = suspect.index(s)\n",
    "        if target != 0 and target != (num-1):\n",
    "            if meet_booking[target-1] == -1 and meet_booking[target+1] == -1:\n",
    "                meet_booking[target] = 0\n",
    "            elif meet_booking[target-1] != -1 or meet_booking[target+1] != -1:\n",
    "                meet_booking[target] = \"Process\"\n",
    "                if -1 in meet_booking :\n",
    "                    for index,value in enumerate(meet_booking):\n",
    "                        if value == -1:\n",
    "                            dummy_booking.append(index)\n",
    "                            if index == 0:\n",
    "                                if meet_booking[index+1] == -1 or meet_booking[index+1] == \"Process\":\n",
    "                                    meet_booking[target] = 2\n",
    "                                    break\n",
    "\n",
    "                            elif index == num-1:\n",
    "                                # print(meet_booking[index-1])\n",
    "                                if meet_booking[index-1] == -1 or meet_booking[index-1] == \"Process\":\n",
    "                                    meet_booking[target] = 2\n",
    "                                    break\n",
    "\n",
    "                            else:\n",
    "                                if ((meet_booking[index-1] == -1 or meet_booking[index-1] == \"Process\") and \\\n",
    "                                    (meet_booking[index+1] == -1 or meet_booking[index+1] == \"Process\")):\n",
    "                                    meet_booking[target] = 2 \n",
    "                                    break\n",
    "\n",
    "                    if meet_booking[target] == \"Process\" :\n",
    "                        meet_booking[target] = 1\n",
    "                else:\n",
    "                    meet_booking[target] = 1\n",
    "            \n",
    "        elif target == 0:\n",
    "            if meet_booking[target+1] == -1:\n",
    "                meet_booking[target] = 0\n",
    "            else:\n",
    "                meet_booking[target] = \"Process\"\n",
    "                if -1 in meet_booking :\n",
    "                    for index,value in enumerate(meet_booking):\n",
    "                        \n",
    "                        if value == -1:\n",
    "                            dummy_booking.append(index)\n",
    "                            if index == 0:\n",
    "                                if meet_booking[index+1] == -1 or meet_booking[index+1] == \"Process\":\n",
    "                                    meet_booking[target] = 2\n",
    "                                    break\n",
    "\n",
    "                            elif index == num-1:\n",
    "                                if meet_booking[index-1] == -1 or meet_booking[index-1] == \"Process\":\n",
    "                                    meet_booking[target] = 2\n",
    "                                    break\n",
    "                            else:\n",
    "                                if ((meet_booking[index-1] == -1 or meet_booking[index-1] == \"Process\") and \\\n",
    "                                    (meet_booking[index+1] == -1 or meet_booking[index+1] == \"Process\")):\n",
    "                                    meet_booking[target] = 2 \n",
    "                                    break\n",
    "                    if meet_booking[target] == \"Process\" :\n",
    "                        meet_booking[target] = 1\n",
    "                else:\n",
    "                    meet_booking[target] = 1\n",
    "        else:\n",
    "            if meet_booking[target-1] == -1:\n",
    "                meet_booking[target] = 0\n",
    "            else:\n",
    "                meet_booking[target] = \"Process\"\n",
    "                if -1 in meet_booking :\n",
    "                    for index,value in enumerate(meet_booking):\n",
    "                        if value == -1:\n",
    "                            dummy_booking.append(index)\n",
    "                            if index == 0:\n",
    "                                if meet_booking[index+1] == -1 or meet_booking[index+1] == \"Process\":\n",
    "                                    meet_booking[target] = 2\n",
    "                                    break\n",
    "\n",
    "                            elif index == num-1:\n",
    "                                if meet_booking[index-1] == -1 or meet_booking[index-1] == \"Process\":\n",
    "                                    meet_booking[target] = 2\n",
    "                                    break\n",
    "                            else:\n",
    "                                if ((meet_booking[index-1] == -1 or meet_booking[index-1] == \"Process\") and \\\n",
    "                                    (meet_booking[index+1] == -1 or meet_booking[index+1] == \"Process\")):\n",
    "                                    meet_booking[target] = 2 \n",
    "                                    break\n",
    "                    if meet_booking[target] == \"Process\" :\n",
    "                        meet_booking[target] = 1\n",
    "                else:\n",
    "                    meet_booking[target] = 1\n",
    "    return(meet_booking)\n",
    "\n",
    "\n",
    "\n",
    "\n",
    "                    \n",
    "                    \n",
    "\n",
    "\n",
    "\n",
    "\n"
   ]
  },
  {
   "cell_type": "code",
   "execution_count": 153,
   "metadata": {},
   "outputs": [
    {
     "name": "stdout",
     "output_type": "stream",
     "text": [
      "[1, 2, 0, 2, 0]\n",
      "[1, 0, 2, 1]\n",
      "[2, 2, 0, 2, 1]\n"
     ]
    }
   ],
   "source": [
    "print(suspect_detector(5,[5,4,1,3,2]))\n",
    "print(suspect_detector(4,[4,1,2,3]))\n",
    "print(suspect_detector(5,[3,2,1,4,5]))"
   ]
  },
  {
   "cell_type": "code",
   "execution_count": null,
   "metadata": {},
   "outputs": [],
   "source": []
  }
 ],
 "metadata": {
  "kernelspec": {
   "display_name": "base",
   "language": "python",
   "name": "python3"
  },
  "language_info": {
   "codemirror_mode": {
    "name": "ipython",
    "version": 3
   },
   "file_extension": ".py",
   "mimetype": "text/x-python",
   "name": "python",
   "nbconvert_exporter": "python",
   "pygments_lexer": "ipython3",
   "version": "3.10.4"
  },
  "orig_nbformat": 4
 },
 "nbformat": 4,
 "nbformat_minor": 2
}
